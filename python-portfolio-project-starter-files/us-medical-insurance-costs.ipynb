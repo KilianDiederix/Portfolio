{
 "cells": [
  {
   "cell_type": "markdown",
   "metadata": {},
   "source": [
    "# U.S. Medical Insurance Costs"
   ]
  },
  {
   "cell_type": "markdown",
   "metadata": {},
   "source": [
    "## This project is the introduction portfolio project from the CodeAcademy career path: data analyst (Machine Learning).\n",
    "\n",
    "### Self created tasks for this project: \n",
    "    1) Find out the average age of the patients in the dataset.\n",
    "    2) Analyze where a majority of the individuals are from. \n",
    "    3) Average charges between smokers vs. non-smokers. \n",
    "    4) Male vs female imsurace costs on average. \n",
    "    5) Figure out what the average age is for someone who has at least one child in this dataset. \n",
    "    6) How the number of children correlates with smoking for males and females.\n",
    "   \n",
    "  \n",
    "  The purpose of this project is to showcase some basic dataframe functions, variable / value modifications and a few basic visualizations as well as a little bit of python knowledge.\n",
    "  The other portfolio projects are more specific towards one domain, i.e. visualization / statistic / data wrangling / ML."
   ]
  },
  {
   "cell_type": "code",
   "execution_count": 3,
   "metadata": {},
   "outputs": [],
   "source": [
    "import pandas as pd\n",
    "import matplotlib.pyplot as plt\n",
    "import seaborn as sns\n",
    "import numpy as np\n",
    "import matplotlib as mpl\n"
   ]
  },
  {
   "cell_type": "code",
   "execution_count": 4,
   "metadata": {},
   "outputs": [],
   "source": [
    "df = pd.read_csv('insurance.csv')"
   ]
  },
  {
   "cell_type": "code",
   "execution_count": 5,
   "metadata": {},
   "outputs": [
    {
     "data": {
      "text/html": [
       "<div>\n",
       "<style scoped>\n",
       "    .dataframe tbody tr th:only-of-type {\n",
       "        vertical-align: middle;\n",
       "    }\n",
       "\n",
       "    .dataframe tbody tr th {\n",
       "        vertical-align: top;\n",
       "    }\n",
       "\n",
       "    .dataframe thead th {\n",
       "        text-align: right;\n",
       "    }\n",
       "</style>\n",
       "<table border=\"1\" class=\"dataframe\">\n",
       "  <thead>\n",
       "    <tr style=\"text-align: right;\">\n",
       "      <th></th>\n",
       "      <th>age</th>\n",
       "      <th>sex</th>\n",
       "      <th>bmi</th>\n",
       "      <th>children</th>\n",
       "      <th>smoker</th>\n",
       "      <th>region</th>\n",
       "      <th>charges</th>\n",
       "    </tr>\n",
       "  </thead>\n",
       "  <tbody>\n",
       "    <tr>\n",
       "      <th>0</th>\n",
       "      <td>19</td>\n",
       "      <td>female</td>\n",
       "      <td>27.900</td>\n",
       "      <td>0</td>\n",
       "      <td>yes</td>\n",
       "      <td>southwest</td>\n",
       "      <td>16884.92400</td>\n",
       "    </tr>\n",
       "    <tr>\n",
       "      <th>1</th>\n",
       "      <td>18</td>\n",
       "      <td>male</td>\n",
       "      <td>33.770</td>\n",
       "      <td>1</td>\n",
       "      <td>no</td>\n",
       "      <td>southeast</td>\n",
       "      <td>1725.55230</td>\n",
       "    </tr>\n",
       "    <tr>\n",
       "      <th>2</th>\n",
       "      <td>28</td>\n",
       "      <td>male</td>\n",
       "      <td>33.000</td>\n",
       "      <td>3</td>\n",
       "      <td>no</td>\n",
       "      <td>southeast</td>\n",
       "      <td>4449.46200</td>\n",
       "    </tr>\n",
       "    <tr>\n",
       "      <th>3</th>\n",
       "      <td>33</td>\n",
       "      <td>male</td>\n",
       "      <td>22.705</td>\n",
       "      <td>0</td>\n",
       "      <td>no</td>\n",
       "      <td>northwest</td>\n",
       "      <td>21984.47061</td>\n",
       "    </tr>\n",
       "    <tr>\n",
       "      <th>4</th>\n",
       "      <td>32</td>\n",
       "      <td>male</td>\n",
       "      <td>28.880</td>\n",
       "      <td>0</td>\n",
       "      <td>no</td>\n",
       "      <td>northwest</td>\n",
       "      <td>3866.85520</td>\n",
       "    </tr>\n",
       "  </tbody>\n",
       "</table>\n",
       "</div>"
      ],
      "text/plain": [
       "   age     sex     bmi  children smoker     region      charges\n",
       "0   19  female  27.900         0    yes  southwest  16884.92400\n",
       "1   18    male  33.770         1     no  southeast   1725.55230\n",
       "2   28    male  33.000         3     no  southeast   4449.46200\n",
       "3   33    male  22.705         0     no  northwest  21984.47061\n",
       "4   32    male  28.880         0     no  northwest   3866.85520"
      ]
     },
     "execution_count": 5,
     "metadata": {},
     "output_type": "execute_result"
    }
   ],
   "source": [
    "df.head()"
   ]
  },
  {
   "cell_type": "code",
   "execution_count": 6,
   "metadata": {},
   "outputs": [
    {
     "data": {
      "text/plain": [
       "Index(['age', 'sex', 'bmi', 'children', 'smoker', 'region', 'charges'], dtype='object')"
      ]
     },
     "execution_count": 6,
     "metadata": {},
     "output_type": "execute_result"
    }
   ],
   "source": [
    "df.columns"
   ]
  },
  {
   "cell_type": "code",
   "execution_count": 7,
   "metadata": {},
   "outputs": [],
   "source": [
    "for column in df.columns:\n",
    "    globals()[column] = df[column]"
   ]
  },
  {
   "cell_type": "code",
   "execution_count": 8,
   "metadata": {},
   "outputs": [
    {
     "data": {
      "text/plain": [
       "age           int64\n",
       "sex          object\n",
       "bmi         float64\n",
       "children      int64\n",
       "smoker       object\n",
       "region       object\n",
       "charges     float64\n",
       "dtype: object"
      ]
     },
     "execution_count": 8,
     "metadata": {},
     "output_type": "execute_result"
    }
   ],
   "source": [
    "df.dtypes"
   ]
  },
  {
   "cell_type": "code",
   "execution_count": 9,
   "metadata": {},
   "outputs": [
    {
     "name": "stdout",
     "output_type": "stream",
     "text": [
      "['yes' 'no']\n"
     ]
    }
   ],
   "source": [
    "print(smoker.unique())"
   ]
  },
  {
   "cell_type": "code",
   "execution_count": 10,
   "metadata": {},
   "outputs": [],
   "source": [
    "#Change smoker from float to int\n",
    "\n",
    "df['smoker'] = pd.Series(map(lambda x: dict(yes=1, no=0)[x],\n",
    "             df.smoker.values.tolist()), df.index)"
   ]
  },
  {
   "cell_type": "code",
   "execution_count": 11,
   "metadata": {},
   "outputs": [
    {
     "data": {
      "text/html": [
       "<div>\n",
       "<style scoped>\n",
       "    .dataframe tbody tr th:only-of-type {\n",
       "        vertical-align: middle;\n",
       "    }\n",
       "\n",
       "    .dataframe tbody tr th {\n",
       "        vertical-align: top;\n",
       "    }\n",
       "\n",
       "    .dataframe thead th {\n",
       "        text-align: right;\n",
       "    }\n",
       "</style>\n",
       "<table border=\"1\" class=\"dataframe\">\n",
       "  <thead>\n",
       "    <tr style=\"text-align: right;\">\n",
       "      <th></th>\n",
       "      <th>age</th>\n",
       "      <th>sex</th>\n",
       "      <th>bmi</th>\n",
       "      <th>children</th>\n",
       "      <th>smoker</th>\n",
       "      <th>region</th>\n",
       "      <th>charges</th>\n",
       "    </tr>\n",
       "  </thead>\n",
       "  <tbody>\n",
       "    <tr>\n",
       "      <th>0</th>\n",
       "      <td>19</td>\n",
       "      <td>female</td>\n",
       "      <td>27.900</td>\n",
       "      <td>0</td>\n",
       "      <td>1</td>\n",
       "      <td>southwest</td>\n",
       "      <td>16884.92400</td>\n",
       "    </tr>\n",
       "    <tr>\n",
       "      <th>1</th>\n",
       "      <td>18</td>\n",
       "      <td>male</td>\n",
       "      <td>33.770</td>\n",
       "      <td>1</td>\n",
       "      <td>0</td>\n",
       "      <td>southeast</td>\n",
       "      <td>1725.55230</td>\n",
       "    </tr>\n",
       "    <tr>\n",
       "      <th>2</th>\n",
       "      <td>28</td>\n",
       "      <td>male</td>\n",
       "      <td>33.000</td>\n",
       "      <td>3</td>\n",
       "      <td>0</td>\n",
       "      <td>southeast</td>\n",
       "      <td>4449.46200</td>\n",
       "    </tr>\n",
       "    <tr>\n",
       "      <th>3</th>\n",
       "      <td>33</td>\n",
       "      <td>male</td>\n",
       "      <td>22.705</td>\n",
       "      <td>0</td>\n",
       "      <td>0</td>\n",
       "      <td>northwest</td>\n",
       "      <td>21984.47061</td>\n",
       "    </tr>\n",
       "    <tr>\n",
       "      <th>4</th>\n",
       "      <td>32</td>\n",
       "      <td>male</td>\n",
       "      <td>28.880</td>\n",
       "      <td>0</td>\n",
       "      <td>0</td>\n",
       "      <td>northwest</td>\n",
       "      <td>3866.85520</td>\n",
       "    </tr>\n",
       "  </tbody>\n",
       "</table>\n",
       "</div>"
      ],
      "text/plain": [
       "   age     sex     bmi  children  smoker     region      charges\n",
       "0   19  female  27.900         0       1  southwest  16884.92400\n",
       "1   18    male  33.770         1       0  southeast   1725.55230\n",
       "2   28    male  33.000         3       0  southeast   4449.46200\n",
       "3   33    male  22.705         0       0  northwest  21984.47061\n",
       "4   32    male  28.880         0       0  northwest   3866.85520"
      ]
     },
     "execution_count": 11,
     "metadata": {},
     "output_type": "execute_result"
    }
   ],
   "source": [
    "df.head()"
   ]
  },
  {
   "cell_type": "code",
   "execution_count": 12,
   "metadata": {},
   "outputs": [],
   "source": [
    "class DataFrameAnalyzer:\n",
    "    def __init__(self, df):\n",
    "        self.df = df\n",
    "\n",
    "    def summary(self):\n",
    "        \"\"\"\n",
    "        Display a summary of the DataFrame, including info, describe, and the first few rows.\n",
    "        \"\"\"\n",
    "        print(\"DataFrame Info:\")\n",
    "        print(self.df.info())\n",
    "        print(\"\\nDataFrame Description:\")\n",
    "        print(self.df.describe())\n",
    "        print(\"\\nFirst 5 rows of the DataFrame:\")\n",
    "        print(self.df.head())\n",
    "\n",
    "    def column_info(self, column_name):\n",
    "        \"\"\"\n",
    "        Display information about a specific column in the DataFrame.\n",
    "        \"\"\"\n",
    "        if column_name in self.df.columns:\n",
    "            print(f\"Column Name: {column_name}\")\n",
    "            print(f\"Data Type: {self.df[column_name].dtype}\")\n",
    "            print(f\"Number of Non-null Values: {self.df[column_name].count()}\")\n",
    "            print(f\"Mean: {self.df[column_name].mean()}\")\n",
    "            print(f\"Median: {self.df[column_name].median()}\")\n",
    "            print(f\"Standard Deviation: {self.df[column_name].std()}\")\n",
    "        else:\n",
    "            print(f\"Column '{column_name}' not found in the DataFrame.\")\n",
    "\n",
    "    def missing_values(self):\n",
    "        \"\"\"\n",
    "        Display the count of missing values in each column of the DataFrame.\n",
    "        \"\"\"\n",
    "        missing_data = self.df.isnull().sum()\n",
    "        print(\"Missing Values:\")\n",
    "        print(missing_data[missing_data > 0])\n",
    "\n",
    "    def unique_values(self, column_name):\n",
    "        \"\"\"\n",
    "        Display unique values in a specific column of the DataFrame.\n",
    "        \"\"\"\n",
    "        if column_name in self.df.columns:\n",
    "            unique_vals = self.df[column_name].unique()\n",
    "            print(f\"Unique values in '{column_name}':\")\n",
    "            for val in unique_vals:\n",
    "                print(val)\n",
    "        else:\n",
    "            print(f\"Column '{column_name}' not found in the DataFrame.\")"
   ]
  },
  {
   "cell_type": "code",
   "execution_count": 13,
   "metadata": {},
   "outputs": [],
   "source": [
    "analysis = DataFrameAnalyzer(df)"
   ]
  },
  {
   "cell_type": "code",
   "execution_count": 14,
   "metadata": {},
   "outputs": [
    {
     "name": "stdout",
     "output_type": "stream",
     "text": [
      "DataFrame Info:\n",
      "<class 'pandas.core.frame.DataFrame'>\n",
      "RangeIndex: 1338 entries, 0 to 1337\n",
      "Data columns (total 7 columns):\n",
      " #   Column    Non-Null Count  Dtype  \n",
      "---  ------    --------------  -----  \n",
      " 0   age       1338 non-null   int64  \n",
      " 1   sex       1338 non-null   object \n",
      " 2   bmi       1338 non-null   float64\n",
      " 3   children  1338 non-null   int64  \n",
      " 4   smoker    1338 non-null   int64  \n",
      " 5   region    1338 non-null   object \n",
      " 6   charges   1338 non-null   float64\n",
      "dtypes: float64(2), int64(3), object(2)\n",
      "memory usage: 73.3+ KB\n",
      "None\n",
      "\n",
      "DataFrame Description:\n",
      "               age          bmi     children       smoker       charges\n",
      "count  1338.000000  1338.000000  1338.000000  1338.000000   1338.000000\n",
      "mean     39.207025    30.663397     1.094918     0.204783  13270.422265\n",
      "std      14.049960     6.098187     1.205493     0.403694  12110.011237\n",
      "min      18.000000    15.960000     0.000000     0.000000   1121.873900\n",
      "25%      27.000000    26.296250     0.000000     0.000000   4740.287150\n",
      "50%      39.000000    30.400000     1.000000     0.000000   9382.033000\n",
      "75%      51.000000    34.693750     2.000000     0.000000  16639.912515\n",
      "max      64.000000    53.130000     5.000000     1.000000  63770.428010\n",
      "\n",
      "First 5 rows of the DataFrame:\n",
      "   age     sex     bmi  children  smoker     region      charges\n",
      "0   19  female  27.900         0       1  southwest  16884.92400\n",
      "1   18    male  33.770         1       0  southeast   1725.55230\n",
      "2   28    male  33.000         3       0  southeast   4449.46200\n",
      "3   33    male  22.705         0       0  northwest  21984.47061\n",
      "4   32    male  28.880         0       0  northwest   3866.85520\n"
     ]
    }
   ],
   "source": [
    "analysis.summary()"
   ]
  },
  {
   "cell_type": "code",
   "execution_count": 15,
   "metadata": {},
   "outputs": [
    {
     "data": {
      "text/html": [
       "<div>\n",
       "<style scoped>\n",
       "    .dataframe tbody tr th:only-of-type {\n",
       "        vertical-align: middle;\n",
       "    }\n",
       "\n",
       "    .dataframe tbody tr th {\n",
       "        vertical-align: top;\n",
       "    }\n",
       "\n",
       "    .dataframe thead th {\n",
       "        text-align: right;\n",
       "    }\n",
       "</style>\n",
       "<table border=\"1\" class=\"dataframe\">\n",
       "  <thead>\n",
       "    <tr style=\"text-align: right;\">\n",
       "      <th></th>\n",
       "      <th>age</th>\n",
       "      <th>sex</th>\n",
       "      <th>bmi</th>\n",
       "      <th>children</th>\n",
       "      <th>smoker</th>\n",
       "      <th>region</th>\n",
       "      <th>charges</th>\n",
       "    </tr>\n",
       "  </thead>\n",
       "  <tbody>\n",
       "    <tr>\n",
       "      <th>count</th>\n",
       "      <td>1338.000000</td>\n",
       "      <td>1338</td>\n",
       "      <td>1338.000000</td>\n",
       "      <td>1338.000000</td>\n",
       "      <td>1338.000000</td>\n",
       "      <td>1338</td>\n",
       "      <td>1338.000000</td>\n",
       "    </tr>\n",
       "    <tr>\n",
       "      <th>unique</th>\n",
       "      <td>NaN</td>\n",
       "      <td>2</td>\n",
       "      <td>NaN</td>\n",
       "      <td>NaN</td>\n",
       "      <td>NaN</td>\n",
       "      <td>4</td>\n",
       "      <td>NaN</td>\n",
       "    </tr>\n",
       "    <tr>\n",
       "      <th>top</th>\n",
       "      <td>NaN</td>\n",
       "      <td>male</td>\n",
       "      <td>NaN</td>\n",
       "      <td>NaN</td>\n",
       "      <td>NaN</td>\n",
       "      <td>southeast</td>\n",
       "      <td>NaN</td>\n",
       "    </tr>\n",
       "    <tr>\n",
       "      <th>freq</th>\n",
       "      <td>NaN</td>\n",
       "      <td>676</td>\n",
       "      <td>NaN</td>\n",
       "      <td>NaN</td>\n",
       "      <td>NaN</td>\n",
       "      <td>364</td>\n",
       "      <td>NaN</td>\n",
       "    </tr>\n",
       "    <tr>\n",
       "      <th>mean</th>\n",
       "      <td>39.207025</td>\n",
       "      <td>NaN</td>\n",
       "      <td>30.663397</td>\n",
       "      <td>1.094918</td>\n",
       "      <td>0.204783</td>\n",
       "      <td>NaN</td>\n",
       "      <td>13270.422265</td>\n",
       "    </tr>\n",
       "    <tr>\n",
       "      <th>std</th>\n",
       "      <td>14.049960</td>\n",
       "      <td>NaN</td>\n",
       "      <td>6.098187</td>\n",
       "      <td>1.205493</td>\n",
       "      <td>0.403694</td>\n",
       "      <td>NaN</td>\n",
       "      <td>12110.011237</td>\n",
       "    </tr>\n",
       "    <tr>\n",
       "      <th>min</th>\n",
       "      <td>18.000000</td>\n",
       "      <td>NaN</td>\n",
       "      <td>15.960000</td>\n",
       "      <td>0.000000</td>\n",
       "      <td>0.000000</td>\n",
       "      <td>NaN</td>\n",
       "      <td>1121.873900</td>\n",
       "    </tr>\n",
       "    <tr>\n",
       "      <th>25%</th>\n",
       "      <td>27.000000</td>\n",
       "      <td>NaN</td>\n",
       "      <td>26.296250</td>\n",
       "      <td>0.000000</td>\n",
       "      <td>0.000000</td>\n",
       "      <td>NaN</td>\n",
       "      <td>4740.287150</td>\n",
       "    </tr>\n",
       "    <tr>\n",
       "      <th>50%</th>\n",
       "      <td>39.000000</td>\n",
       "      <td>NaN</td>\n",
       "      <td>30.400000</td>\n",
       "      <td>1.000000</td>\n",
       "      <td>0.000000</td>\n",
       "      <td>NaN</td>\n",
       "      <td>9382.033000</td>\n",
       "    </tr>\n",
       "    <tr>\n",
       "      <th>75%</th>\n",
       "      <td>51.000000</td>\n",
       "      <td>NaN</td>\n",
       "      <td>34.693750</td>\n",
       "      <td>2.000000</td>\n",
       "      <td>0.000000</td>\n",
       "      <td>NaN</td>\n",
       "      <td>16639.912515</td>\n",
       "    </tr>\n",
       "    <tr>\n",
       "      <th>max</th>\n",
       "      <td>64.000000</td>\n",
       "      <td>NaN</td>\n",
       "      <td>53.130000</td>\n",
       "      <td>5.000000</td>\n",
       "      <td>1.000000</td>\n",
       "      <td>NaN</td>\n",
       "      <td>63770.428010</td>\n",
       "    </tr>\n",
       "  </tbody>\n",
       "</table>\n",
       "</div>"
      ],
      "text/plain": [
       "                age   sex          bmi     children       smoker     region  \\\n",
       "count   1338.000000  1338  1338.000000  1338.000000  1338.000000       1338   \n",
       "unique          NaN     2          NaN          NaN          NaN          4   \n",
       "top             NaN  male          NaN          NaN          NaN  southeast   \n",
       "freq            NaN   676          NaN          NaN          NaN        364   \n",
       "mean      39.207025   NaN    30.663397     1.094918     0.204783        NaN   \n",
       "std       14.049960   NaN     6.098187     1.205493     0.403694        NaN   \n",
       "min       18.000000   NaN    15.960000     0.000000     0.000000        NaN   \n",
       "25%       27.000000   NaN    26.296250     0.000000     0.000000        NaN   \n",
       "50%       39.000000   NaN    30.400000     1.000000     0.000000        NaN   \n",
       "75%       51.000000   NaN    34.693750     2.000000     0.000000        NaN   \n",
       "max       64.000000   NaN    53.130000     5.000000     1.000000        NaN   \n",
       "\n",
       "             charges  \n",
       "count    1338.000000  \n",
       "unique           NaN  \n",
       "top              NaN  \n",
       "freq             NaN  \n",
       "mean    13270.422265  \n",
       "std     12110.011237  \n",
       "min      1121.873900  \n",
       "25%      4740.287150  \n",
       "50%      9382.033000  \n",
       "75%     16639.912515  \n",
       "max     63770.428010  "
      ]
     },
     "execution_count": 15,
     "metadata": {},
     "output_type": "execute_result"
    }
   ],
   "source": [
    "# We can get more information using functions like .describe(), however combining functions together provides a better overview (in some cases), like we did in the class.\n",
    "df.describe(include='all')"
   ]
  },
  {
   "cell_type": "code",
   "execution_count": 191,
   "metadata": {},
   "outputs": [
    {
     "name": "stdout",
     "output_type": "stream",
     "text": [
      "Column Name: age\n",
      "Data Type: int64\n",
      "Number of Non-null Values: 1338\n",
      "Mean: 39.20702541106129\n",
      "Median: 39.0\n",
      "Standard Deviation: 14.049960379216172\n"
     ]
    }
   ],
   "source": [
    "#Using the column_info we can find all basic information for each variable (column), as long as the column isn't a string.\n",
    "analysis.column_info('age')"
   ]
  },
  {
   "cell_type": "code",
   "execution_count": 192,
   "metadata": {},
   "outputs": [
    {
     "name": "stdout",
     "output_type": "stream",
     "text": [
      "Missing Values:\n",
      "Series([], dtype: int64)\n"
     ]
    }
   ],
   "source": [
    "analysis.missing_values()\n",
    "#There are no missing values in the dataset"
   ]
  },
  {
   "cell_type": "code",
   "execution_count": 193,
   "metadata": {},
   "outputs": [
    {
     "name": "stdout",
     "output_type": "stream",
     "text": [
      "Unique values in 'sex':\n",
      "female\n",
      "male\n"
     ]
    }
   ],
   "source": [
    "# Check all the unique values in a column, i.e. sex. \n",
    "analysis.unique_values('sex')\n",
    "# We find there are no null values and all values are either female or male, there is thus no need to clean the column."
   ]
  },
  {
   "cell_type": "code",
   "execution_count": 194,
   "metadata": {},
   "outputs": [
    {
     "name": "stdout",
     "output_type": "stream",
     "text": [
      "Unique values in 'region':\n",
      "southwest\n",
      "southeast\n",
      "northwest\n",
      "northeast\n"
     ]
    }
   ],
   "source": [
    "analysis.unique_values('region')\n",
    "# This is a curious variable, normally we'd expect: {north, south, east and west} but here the values are combined, we can split these to get more interesting comparisons"
   ]
  },
  {
   "cell_type": "code",
   "execution_count": 195,
   "metadata": {},
   "outputs": [],
   "source": [
    "# To split the region we create 2 new variables: direction and area. We do not drop the original variable, because it can be used later during analysis.\n",
    "df['direction'] = df['region'].str[:-4]  # Remove the last 4 characters\n",
    "df['area'] = df['region'].str[-4:]  # Get the last 4 characters"
   ]
  },
  {
   "cell_type": "code",
   "execution_count": 196,
   "metadata": {},
   "outputs": [
    {
     "name": "stdout",
     "output_type": "stream",
     "text": [
      "      age     sex     bmi  children  smoker     region      charges direction  \\\n",
      "0      19  female  27.900         0       1  southwest  16884.92400     south   \n",
      "1      18    male  33.770         1       0  southeast   1725.55230     south   \n",
      "2      28    male  33.000         3       0  southeast   4449.46200     south   \n",
      "3      33    male  22.705         0       0  northwest  21984.47061     north   \n",
      "4      32    male  28.880         0       0  northwest   3866.85520     north   \n",
      "...   ...     ...     ...       ...     ...        ...          ...       ...   \n",
      "1333   50    male  30.970         3       0  northwest  10600.54830     north   \n",
      "1334   18  female  31.920         0       0  northeast   2205.98080     north   \n",
      "1335   18  female  36.850         0       0  southeast   1629.83350     south   \n",
      "1336   21  female  25.800         0       0  southwest   2007.94500     south   \n",
      "1337   61  female  29.070         0       1  northwest  29141.36030     north   \n",
      "\n",
      "      area  \n",
      "0     west  \n",
      "1     east  \n",
      "2     east  \n",
      "3     west  \n",
      "4     west  \n",
      "...    ...  \n",
      "1333  west  \n",
      "1334  east  \n",
      "1335  east  \n",
      "1336  west  \n",
      "1337  west  \n",
      "\n",
      "[1338 rows x 9 columns]\n"
     ]
    }
   ],
   "source": [
    "print(df)"
   ]
  },
  {
   "cell_type": "code",
   "execution_count": 197,
   "metadata": {},
   "outputs": [
    {
     "name": "stdout",
     "output_type": "stream",
     "text": [
      "39.20702541106129\n",
      "Column Name: age\n",
      "Data Type: int64\n",
      "Number of Non-null Values: 1338\n",
      "Mean: 39.20702541106129\n",
      "Median: 39.0\n",
      "Standard Deviation: 14.049960379216172\n",
      "None\n"
     ]
    }
   ],
   "source": [
    "# Task 1: Find out the average age of the patients in the dataset.\n",
    "# Approach: we can do this using .mean(), manually, or call the function column_info in the class where .mean() was also used.\n",
    "\n",
    "print(age.mean()) # Approach 1\n",
    "print(analysis.column_info('age')) #Approach 2\n"
   ]
  },
  {
   "cell_type": "code",
   "execution_count": 198,
   "metadata": {},
   "outputs": [
    {
     "name": "stdout",
     "output_type": "stream",
     "text": [
      "southeast    364\n",
      "southwest    325\n",
      "northwest    325\n",
      "northeast    324\n",
      "Name: region, dtype: int64\n"
     ]
    },
    {
     "data": {
      "image/png": "[encoded data removed]",
      "text/plain": [
       "<Figure size 640x480 with 1 Axes>"
      ]
     },
     "metadata": {},
     "output_type": "display_data"
    },
    {
     "data": {
      "image/png": "[encoded data removed]",
      "text/plain": [
       "<Figure size 640x480 with 1 Axes>"
      ]
     },
     "metadata": {},
     "output_type": "display_data"
    },
    {
     "data": {
      "image/png": "[encoded data removed]",
      "text/plain": [
       "<Figure size 640x480 with 1 Axes>"
      ]
     },
     "metadata": {},
     "output_type": "display_data"
    }
   ],
   "source": [
    "# Task 2: 2) Analyze where a majority of the individuals are from.\n",
    "# Approach: We will do this by looking at both the orginial variable: region, and comparing it to direction/area.\n",
    "\n",
    "region_count = region.value_counts()\n",
    "print(region_count)\n",
    "\n",
    "\n",
    "order = region.value_counts().index\n",
    "plt.title('Location analysis')\n",
    "sns.countplot( data = df, x= 'region', order=order)\n",
    "plt.ylim([300,375])\n",
    "plt.xlabel('Regions')\n",
    "plt.ylabel('Number of entries')\n",
    "plt.show()\n",
    "\n",
    "\n",
    "order_direction = df['direction'].value_counts().index\n",
    "plt.title('Location analysis')\n",
    "sns.countplot( data = df, x= 'direction', order=order_direction)\n",
    "plt.ylim([600,700])\n",
    "plt.xlabel('Directions')\n",
    "plt.ylabel('Number of entries')\n",
    "plt.show()\n",
    "\n",
    "\n",
    "order_area = df['area'].value_counts().index\n",
    "plt.title('Location analysis')\n",
    "sns.countplot( data = df, x= 'area', order=order_area)\n",
    "plt.ylim([600,700])\n",
    "plt.xlabel('Areas')\n",
    "plt.ylabel('Number of entries')\n",
    "plt.show()\n",
    "\n",
    "# Conclusion: We can conclude that a majority of the people are from the southeast, there are more people from the south than there are from the north, and there are more people from the east than there are from the west."
   ]
  },
  {
   "cell_type": "code",
   "execution_count": 199,
   "metadata": {},
   "outputs": [
    {
     "name": "stdout",
     "output_type": "stream",
     "text": [
      "32050.23183153284\n",
      "8434.268297856204\n",
      "The difference in charges between a smoker and a non_smoker is: $23615.96\n"
     ]
    }
   ],
   "source": [
    "# Task 3: Average charges between smokers vs. non-smokers.\n",
    "# Approach: Calculate mean for smoker = 1 and smoker = 0. Calculate the difference and round to two digits. Print all and show the difference.\n",
    "\n",
    "charges_smoker = df.loc[df['smoker'] == 1 , 'charges'].mean()\n",
    "charges_non_smoker = df.loc[df['smoker'] == 0 , 'charges'].mean()\n",
    "\n",
    "difference_charges_smokers = round(charges_smoker - charges_non_smoker, 2)\n",
    "\n",
    "print(charges_smoker)\n",
    "print(charges_non_smoker)\n",
    "print(\"The difference in charges between a smoker and a non_smoker is: $\" + str(difference_charges_smokers))"
   ]
  },
  {
   "cell_type": "code",
   "execution_count": 200,
   "metadata": {},
   "outputs": [
    {
     "name": "stdout",
     "output_type": "stream",
     "text": [
      "13956.751177721893\n",
      "12569.578843835347\n",
      "The difference in charges between male and female is: $1387.17\n"
     ]
    }
   ],
   "source": [
    "# Task 4: Male vs female imsurace costs on average.\n",
    "# Approach: Basically the same as Task3. \n",
    "\n",
    "male_average = df.loc[sex == 'male', 'charges'].mean()\n",
    "female_average = df.loc[sex == 'female', 'charges'].mean()\n",
    "\n",
    "difference_charges_sex = round(male_average - female_average, 2 )\n",
    "\n",
    "print(male_average)\n",
    "print(female_average)\n",
    "print(\"The difference in charges between male and female is: $\" + str(difference_charges_sex))"
   ]
  },
  {
   "cell_type": "code",
   "execution_count": 203,
   "metadata": {},
   "outputs": [
    {
     "data": {
      "image/png": "[encoded data removed]",
      "text/plain": [
       "<Figure size 640x480 with 1 Axes>"
      ]
     },
     "metadata": {},
     "output_type": "display_data"
    }
   ],
   "source": [
    "# Task 5: Figure out what the average age is for someone who has at least one child in this dataset. \n",
    "# Approach: Similar to previous tasks, take the average age of people with one kid. We can compare this age to different number of kids.\n",
    "\n",
    "age_one_child = df.loc[children == 1, 'age'].mean().round(2)\n",
    "age_two_child = df.loc[children == 2, 'age'].mean().round(2)\n",
    "age_three_child = df.loc[children == 3, 'age'].mean().round(2)\n",
    "age_more_child = df.loc[children >= 4, 'age'].mean().round(2)\n",
    "age_no_child = df.loc[children == 0, 'age'].mean().round(2)\n",
    "\n",
    "values = [age_no_child, age_one_child, age_two_child, age_three_child, age_more_child]\n",
    "labels = [ 'No children', 'One child', 'Two children', 'Three children', 'Four+ children']\n",
    "plt.bar(labels, values, color=plt.cm.viridis(0.5) )\n",
    "plt.xlabel('Number of Children')\n",
    "plt.ylabel('Average age')\n",
    "plt.ylim([35,42])\n",
    "plt.title('Average age compared to number of children')\n",
    "plt.xticks(rotation=45)\n",
    "plt.tight_layout()\n",
    "plt.show()\n"
   ]
  },
  {
   "cell_type": "code",
   "execution_count": 202,
   "metadata": {},
   "outputs": [
    {
     "data": {
      "image/png": "[encoded data removed]",
      "text/plain": [
       "<Figure size 1000x600 with 1 Axes>"
      ]
     },
     "metadata": {},
     "output_type": "display_data"
    }
   ],
   "source": [
    "# Task 6: How the number of children correlates with smoking for males and females.\n",
    "# Approach: Group the appropriate variables together, create a pivot table for the visualization, plot the variables.\n",
    "\n",
    "# Group the data by gender, smoking status, and number of children\n",
    "grouped = df.groupby(['sex', 'smoker', 'children']).size().reset_index(name='count')\n",
    "\n",
    "# Create a pivot table for better visualization\n",
    "pivot_table = grouped.pivot_table(index=['sex', 'children'], columns='smoker', values='count', fill_value=1)\n",
    "\n",
    "# Create a bar plot to visualize the correlation\n",
    "sns.set(style='whitegrid')\n",
    "plt.figure(figsize=(10, 6))\n",
    "sns.barplot(data=pivot_table.reset_index(), x='children', y=1, hue='sex')\n",
    "plt.title('Correlation between Number of Children and Smoking by Gender')\n",
    "plt.xlabel('Number of Children')\n",
    "plt.ylabel('Count of Smokers')\n",
    "plt.show()"
   ]
  }
 ],
 "metadata": {
  "kernelspec": {
   "display_name": "Python 3 (ipykernel)",
   "language": "python",
   "name": "python3"
  },
  "language_info": {
   "codemirror_mode": {
    "name": "ipython",
    "version": 3
   },
   "file_extension": ".py",
   "mimetype": "text/x-python",
   "name": "python",
   "nbconvert_exporter": "python",
   "pygments_lexer": "ipython3",
   "version": "3.11.4"
  }
 },
 "nbformat": 4,
 "nbformat_minor": 4
}
